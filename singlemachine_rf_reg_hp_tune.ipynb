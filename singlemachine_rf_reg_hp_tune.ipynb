{
 "cells": [
  {
   "cell_type": "code",
   "execution_count": 1,
   "metadata": {},
   "outputs": [
    {
     "name": "stderr",
     "output_type": "stream",
     "text": [
      "/anaconda3/envs/gcloud_machine_learning_example/lib/python3.7/site-packages/sklearn/externals/joblib/__init__.py:15: DeprecationWarning: sklearn.externals.joblib is deprecated in 0.21 and will be removed in 0.23. Please import this functionality directly from joblib, which can be installed with: pip install joblib. If this warning is raised when loading pickled models, you may need to re-serialize those models with scikit-learn 0.21+.\n",
      "  warnings.warn(msg, category=DeprecationWarning)\n"
     ]
    }
   ],
   "source": [
    "import os\n",
    "import datetime\n",
    "import pandas as pd\n",
    "import numpy as np\n",
    "from google.cloud import storage\n",
    "from sklearn.model_selection import train_test_split\n",
    "from sklearn.ensemble import RandomForestRegressor\n",
    "from sklearn.model_selection import RandomizedSearchCV\n",
    "from sklearn.metrics import mean_squared_error\n",
    "from sklearn.externals import joblib"
   ]
  },
  {
   "cell_type": "code",
   "execution_count": 17,
   "metadata": {},
   "outputs": [],
   "source": [
    "# Set the GOOGLE_APPLICATION_CREDENTIALS environment variable\n",
    "os.environ[\"GOOGLE_APPLICATION_CREDENTIALS\"]=\"/Users/sventhies/service_accounts/sven_uses_google_vision_api.json\""
   ]
  },
  {
   "cell_type": "code",
   "execution_count": null,
   "metadata": {},
   "outputs": [],
   "source": []
  },
  {
   "cell_type": "code",
   "execution_count": 19,
   "metadata": {},
   "outputs": [],
   "source": [
    "# Define bucket name\n",
    "bucket_id = 'zd-ai-platform-performanceattribution-training-bucket'\n",
    "# Build job_dir from bucket name\n",
    "job_dir = str('job_dir')"
   ]
  },
  {
   "cell_type": "code",
   "execution_count": 22,
   "metadata": {},
   "outputs": [],
   "source": []
  },
  {
   "cell_type": "code",
   "execution_count": 5,
   "metadata": {},
   "outputs": [],
   "source": [
    "# Load data from bucket to filesystem\n",
    "bucket = storage.Client().bucket(bucket_id)\n",
    "\n",
    "# Path to the data inside the public bucket\n",
    "blob_features = bucket.blob('data/data_train_features.csv')\n",
    "blob_labels = bucket.blob('data/data_train_labels.csv')\n",
    "\n",
    "# Download the data\n",
    "blob_features.download_to_filename('data_train_features.csv')\n",
    "blob_labels.download_to_filename('data_train_labels.csv')\n",
    "\n",
    "# Load data from .csv (previously downloaded from gcs bucket)\n",
    "features = pd.read_csv('data_train_features.csv')\n",
    "labels = pd.read_csv('data_train_labels.csv')"
   ]
  },
  {
   "cell_type": "code",
   "execution_count": null,
   "metadata": {},
   "outputs": [],
   "source": []
  },
  {
   "cell_type": "code",
   "execution_count": 6,
   "metadata": {},
   "outputs": [],
   "source": [
    "# Preprocess data (one-hot-encoding of categorical features)\n",
    "features_onehot = pd.get_dummies(features)\n",
    "\n",
    "# Prepare feature dataset for sklearn (2D/1D arrays as input)\n",
    "features_onehot = features_onehot.values\n",
    "labels = labels.values.ravel()\n",
    "\n",
    "# Train/Test split for hyperparamter tuning process\n",
    "features_onehot_train, features_onehot_test, labels_train, labels_test = train_test_split(features_onehot, labels, test_size=0.20)"
   ]
  },
  {
   "cell_type": "code",
   "execution_count": null,
   "metadata": {},
   "outputs": [],
   "source": []
  },
  {
   "cell_type": "code",
   "execution_count": 7,
   "metadata": {},
   "outputs": [],
   "source": [
    "# Define the model\n",
    "rf = RandomForestRegressor()\n",
    "\n",
    "# ===================\n",
    "# Define grid to search over\n",
    "random_grid = {'n_estimators': [int(x) for x in np.linspace(start = 200, stop = 400, num = 2)],\n",
    "               'max_depth': [int(x) for x in np.linspace(10, 30, num = 2)]}\n",
    "\n",
    "# Perform randomized search with cross validation to tune hyperparameters\n",
    "rf_randomCV = RandomizedSearchCV(\n",
    "    estimator = rf, \n",
    "    param_distributions = random_grid, \n",
    "    scoring = 'neg_mean_squared_error',\n",
    "    n_iter = 4, \n",
    "    cv = 3, \n",
    "    random_state=42, \n",
    "    n_jobs = -1)\n",
    "\n",
    "# Get start time\n",
    "t1 = datetime.datetime.now()\n",
    "\n",
    "# Train the model\n",
    "rf_randomCV.fit(features_onehot_train, labels_train)\n",
    "\n",
    "# Get end time\n",
    "t2 = datetime.datetime.now()\n",
    "\n",
    "# Calculate training time\n",
    "train_time_minutes = (t2 - t1).seconds/60\n",
    "\n",
    "# Predict observations\n",
    "labels_pred = rf_randomCV.predict(features_onehot_test)\n",
    "# ===================\n",
    "\n",
    "## Train the model\n",
    "#rf.fit(features_onehot_train, labels_train)\n",
    "#\n",
    "## Predict observations\n",
    "#labels_pred = rf.predict(features_onehot_test)\n",
    "\n",
    "# Calculate the mean accuracy on the given test data and labels.\n",
    "mse = mean_squared_error(labels_test, labels_pred)"
   ]
  },
  {
   "cell_type": "code",
   "execution_count": 14,
   "metadata": {},
   "outputs": [
    {
     "data": {
      "text/plain": [
       "'job_20190713_145915'"
      ]
     },
     "execution_count": 14,
     "metadata": {},
     "output_type": "execute_result"
    }
   ],
   "source": [
    "training_folder"
   ]
  },
  {
   "cell_type": "code",
   "execution_count": 15,
   "metadata": {},
   "outputs": [
    {
     "data": {
      "text/plain": [
       "'job_dir'"
      ]
     },
     "execution_count": 15,
     "metadata": {},
     "output_type": "execute_result"
    }
   ],
   "source": [
    "job_dir"
   ]
  },
  {
   "cell_type": "code",
   "execution_count": 16,
   "metadata": {},
   "outputs": [
    {
     "data": {
      "text/plain": [
       "'model.joblib'"
      ]
     },
     "execution_count": 16,
     "metadata": {},
     "output_type": "execute_result"
    }
   ],
   "source": [
    "model_filename"
   ]
  },
  {
   "cell_type": "code",
   "execution_count": null,
   "metadata": {},
   "outputs": [],
   "source": [
    "# Export the model to a file\n",
    "model_filename = 'model.joblib'\n",
    "joblib.dump(rf_randomCV, model_filename)\n",
    "\n",
    "# Upload the model to GCS\n",
    "training_folder=str('job')+datetime.datetime.now().strftime('_%Y%m%d_%H%M%S')\n",
    "blob = bucket.blob('{}/{}/{}'.format(\n",
    "    job_dir,\n",
    "    training_folder,\n",
    "    model_filename))\n",
    "blob.upload_from_filename(model_filename)"
   ]
  }
 ],
 "metadata": {
  "kernelspec": {
   "display_name": "Python 3",
   "language": "python",
   "name": "python3"
  },
  "language_info": {
   "codemirror_mode": {
    "name": "ipython",
    "version": 3
   },
   "file_extension": ".py",
   "mimetype": "text/x-python",
   "name": "python",
   "nbconvert_exporter": "python",
   "pygments_lexer": "ipython3",
   "version": "3.7.3"
  }
 },
 "nbformat": 4,
 "nbformat_minor": 2
}

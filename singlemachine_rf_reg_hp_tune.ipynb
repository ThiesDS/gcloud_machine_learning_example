{
 "cells": [
  {
   "cell_type": "code",
   "execution_count": 14,
   "metadata": {},
   "outputs": [],
   "source": [
    "import os\n",
    "import datetime\n",
    "import pandas as pd\n",
    "import numpy as np\n",
    "import json\n",
    "from google.cloud import storage\n",
    "from sklearn.model_selection import train_test_split\n",
    "from sklearn.ensemble import RandomForestRegressor\n",
    "from sklearn.model_selection import RandomizedSearchCV\n",
    "from sklearn.metrics import mean_squared_error\n",
    "from sklearn.externals import joblib"
   ]
  },
  {
   "cell_type": "code",
   "execution_count": 2,
   "metadata": {},
   "outputs": [],
   "source": [
    "# Set the GOOGLE_APPLICATION_CREDENTIALS environment variable\n",
    "#os.environ[\"GOOGLE_APPLICATION_CREDENTIALS\"]=\"/Users/sventhies/service_accounts/sven_uses_google_vision_api.json\""
   ]
  },
  {
   "cell_type": "markdown",
   "metadata": {},
   "source": [
    "### Define necessary variables"
   ]
  },
  {
   "cell_type": "code",
   "execution_count": 10,
   "metadata": {},
   "outputs": [],
   "source": [
    "# Training setup\n",
    "training_setup_env = 'notebook_instance'\n",
    "training_setup_cap = 'n1-standard-4'\n",
    "\n",
    "# Define bucket name\n",
    "bucket_id = 'zd-ai-platform-performanceattribution-training-bucket'\n",
    "# Build job_dir from bucket name\n",
    "job_dir = str('job_dir')"
   ]
  },
  {
   "cell_type": "markdown",
   "metadata": {},
   "source": [
    "### Read training data from gcs bucket"
   ]
  },
  {
   "cell_type": "code",
   "execution_count": 4,
   "metadata": {},
   "outputs": [],
   "source": [
    "# Load data from bucket to filesystem\n",
    "bucket = storage.Client().bucket(bucket_id)\n",
    "\n",
    "# Path to the data inside the public bucket\n",
    "blob_features = bucket.blob('data/data_train_features.csv')\n",
    "blob_labels = bucket.blob('data/data_train_labels.csv')\n",
    "\n",
    "# Download the data\n",
    "blob_features.download_to_filename('data_train_features.csv')\n",
    "blob_labels.download_to_filename('data_train_labels.csv')\n",
    "\n",
    "# Load data from .csv (previously downloaded from gcs bucket)\n",
    "features = pd.read_csv('data_train_features.csv')\n",
    "labels = pd.read_csv('data_train_labels.csv')"
   ]
  },
  {
   "cell_type": "markdown",
   "metadata": {},
   "source": [
    "### Prepare data"
   ]
  },
  {
   "cell_type": "code",
   "execution_count": 5,
   "metadata": {},
   "outputs": [],
   "source": [
    "# Preprocess data (one-hot-encoding of categorical features)\n",
    "features_onehot = pd.get_dummies(features)\n",
    "\n",
    "# Prepare feature dataset for sklearn (2D/1D arrays as input)\n",
    "features_onehot = features_onehot.values\n",
    "labels = labels.values.ravel()\n",
    "\n",
    "# Train/Test split for hyperparamter tuning process\n",
    "features_onehot_train, features_onehot_test, labels_train, labels_test = train_test_split(features_onehot, labels, test_size=0.20)"
   ]
  },
  {
   "cell_type": "markdown",
   "metadata": {},
   "source": [
    "### Train ML model"
   ]
  },
  {
   "cell_type": "code",
   "execution_count": 6,
   "metadata": {},
   "outputs": [],
   "source": [
    "# Define the model\n",
    "rf = RandomForestRegressor()\n",
    "\n",
    "# ===================\n",
    "# Define grid to search over\n",
    "random_grid = {'n_estimators': [int(x) for x in np.linspace(start = 200, stop = 300, num = 2)],\n",
    "               'max_depth': [int(x) for x in np.linspace(10, 20, num = 2)]}\n",
    "\n",
    "# Perform randomized search with cross validation to tune hyperparameters\n",
    "rf_randomCV = RandomizedSearchCV(\n",
    "    estimator = rf, \n",
    "    param_distributions = random_grid, \n",
    "    scoring = 'neg_mean_squared_error',\n",
    "    n_iter = 4, \n",
    "    cv = 3, \n",
    "    random_state=42, \n",
    "    n_jobs = -1)\n",
    "\n",
    "# Get start time\n",
    "t1 = datetime.datetime.now()\n",
    "\n",
    "# Train the model\n",
    "rf_randomCV.fit(features_onehot_train, labels_train)\n",
    "\n",
    "# Get end time\n",
    "t2 = datetime.datetime.now()\n",
    "\n",
    "# Calculate training time\n",
    "train_time_minutes = (t2 - t1).seconds/60\n",
    "\n",
    "# Predict observations\n",
    "labels_pred = rf_randomCV.predict(features_onehot_test)\n",
    "# ===================\n",
    "\n",
    "## Train the model\n",
    "#rf.fit(features_onehot_train, labels_train)\n",
    "#\n",
    "## Predict observations\n",
    "#labels_pred = rf.predict(features_onehot_test)\n",
    "\n",
    "# Calculate the mean accuracy on the given test data and labels.\n",
    "mse = mean_squared_error(labels_test, labels_pred)"
   ]
  },
  {
   "cell_type": "markdown",
   "metadata": {},
   "source": [
    "### Write everything to gcs bucket"
   ]
  },
  {
   "cell_type": "code",
   "execution_count": 9,
   "metadata": {},
   "outputs": [],
   "source": [
    "# Export the model to a file\n",
    "model_filename = 'model.joblib'\n",
    "joblib.dump(rf_randomCV, model_filename)\n",
    "\n",
    "# Export metadata to a file\n",
    "metadata = {'training_setup_env': training_setup_env,\n",
    "            'training_setup_cap': training_setup_cap,\n",
    "            'training_time_min': train_time_minutes}\n",
    "json.dumps(metadata, indent=4)\n",
    "\n",
    "# Upload to GCS\n",
    "training_folder=str('job')+datetime.datetime.now().strftime('_%Y%m%d_%H%M%S')\n",
    "dataset_features_name = 'data_train_features.csv'\n",
    "dataset_labels_name = 'data_train_labels.csv'\n",
    "metadata_name = 'metadata.txt'\n",
    "\n",
    "# Upload the model to GCS\n",
    "blob = bucket.blob('{}/{}'.format(training_folder,model_filename))\n",
    "blob.upload_from_filename(model_filename)\n",
    "\n",
    "# Upload the data to GCS (for reproducability)\n",
    "blob = bucket.blob('{}/{}'.format(training_folder,dataset_features_name))\n",
    "blob.upload_from_filename(dataset_features_name)\n",
    "\n",
    "blob = bucket.blob('{}/{}'.format(training_folder,dataset_labels_name))\n",
    "blob.upload_from_filename(dataset_labels_name)\n",
    "\n",
    "# Upload the metadata to GCS\n",
    "blob = bucket.blob('{}/{}'.format(training_folder,metadata_name))\n",
    "blob.upload_from_filename(metadata_name)"
   ]
  }
 ],
 "metadata": {
  "kernelspec": {
   "display_name": "Python 3",
   "language": "python",
   "name": "python3"
  },
  "language_info": {
   "codemirror_mode": {
    "name": "ipython",
    "version": 3
   },
   "file_extension": ".py",
   "mimetype": "text/x-python",
   "name": "python",
   "nbconvert_exporter": "python",
   "pygments_lexer": "ipython3",
   "version": "3.5.3"
  }
 },
 "nbformat": 4,
 "nbformat_minor": 2
}
